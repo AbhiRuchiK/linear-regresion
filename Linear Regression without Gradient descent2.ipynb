{
 "cells": [
  {
   "cell_type": "code",
   "execution_count": 3,
   "metadata": {},
   "outputs": [],
   "source": [
    "import pandas as pd\n",
    "import numpy as np\n",
    "from matplotlib import pyplot as plt\n",
    "\n",
    "Train = pd.read_csv('train.csv')\n",
    "Test = pd.read_csv('test.csv')\n"
   ]
  },
  {
   "cell_type": "code",
   "execution_count": 15,
   "metadata": {},
   "outputs": [],
   "source": [
    "x = Train.x\n",
    "xt = Test.x\n",
    "xM = np.mean(x)\n",
    "y = Train.y\n",
    "yM = np.mean(y)\n",
    "\n",
    "slope = round((((xM*yM) - (np.mean(x*y))) / ((xM*xM) - (np.mean(x*x)))), 2)"
   ]
  },
  {
   "cell_type": "code",
   "execution_count": 5,
   "metadata": {},
   "outputs": [],
   "source": [
    "C = round(((xM-yM)*slope), 2)"
   ]
  },
  {
   "cell_type": "code",
   "execution_count": 16,
   "metadata": {},
   "outputs": [],
   "source": [
    "reg_line = np.array([(slope*X)+C for X in xt])"
   ]
  },
  {
   "cell_type": "code",
   "execution_count": 19,
   "metadata": {
    "scrolled": true
   },
   "outputs": [
    {
     "data": {
      "image/png": "[encoded data removed]",
      "text/plain": [
       "<matplotlib.figure.Figure at 0x21c0556de10>"
      ]
     },
     "metadata": {},
     "output_type": "display_data"
    }
   ],
   "source": [
    "plt.scatter(Train.x, Train.y)\n",
    "plt.plot(xt , reg_line, color=\"red\")\n",
    "plt.show()"
   ]
  },
  {
   "cell_type": "code",
   "execution_count": 20,
   "metadata": {},
   "outputs": [],
   "source": [
    "linet = []\n",
    "for r in range(len(Test)):\n",
    "    linet.append((67*Test.x[r])+C)"
   ]
  },
  {
   "cell_type": "code",
   "execution_count": 21,
   "metadata": {},
   "outputs": [],
   "source": [
    "errorPer =[]\n",
    "for i in range(len(Test)):\n",
    "    if reg_line[i] < Test.y[i]:\n",
    "        if (((Test.y[i] - reg_line[i])/Test.y[i])*100) < int(100):\n",
    "            errorPer.append(((Test.y[i] - reg_line[i])/Test.y[i])*100)\n",
    "    else:\n",
    "        if (((reg_line[i] - Test.y[i])/ reg_line[i])*100) < int(100):\n",
    "            errorPer.append(((reg_line[i] - Test.y[i])/ reg_line[i])*100)"
   ]
  },
  {
   "cell_type": "code",
   "execution_count": 22,
   "metadata": {},
   "outputs": [],
   "source": [
    "errorPer = np.array(errorPer)\n",
    "Accuracy = np.mean(np.array(np.abs(errorPer-100)))\n"
   ]
  },
  {
   "cell_type": "code",
   "execution_count": 23,
   "metadata": {},
   "outputs": [
    {
     "data": {
      "text/plain": [
       "92.191816946630297"
      ]
     },
     "execution_count": 23,
     "metadata": {},
     "output_type": "execute_result"
    }
   ],
   "source": [
    "Accuracy"
   ]
  },
  {
   "cell_type": "code",
   "execution_count": 12,
   "metadata": {},
   "outputs": [
    {
     "data": {
      "text/plain": [
       "-275501377.96806169"
      ]
     },
     "execution_count": 12,
     "metadata": {},
     "output_type": "execute_result"
    }
   ],
   "source": [
    "sum(np.abs(errorPer) - np.sum(errorPer**2))"
   ]
  },
  {
   "cell_type": "code",
   "execution_count": null,
   "metadata": {},
   "outputs": [],
   "source": []
  }
 ],
 "metadata": {
  "kernelspec": {
   "display_name": "Python 3",
   "language": "python",
   "name": "python3"
  },
  "language_info": {
   "codemirror_mode": {
    "name": "ipython",
    "version": 3
   },
   "file_extension": ".py",
   "mimetype": "text/x-python",
   "name": "python",
   "nbconvert_exporter": "python",
   "pygments_lexer": "ipython3",
   "version": "3.6.4"
  }
 },
 "nbformat": 4,
 "nbformat_minor": 2
}
